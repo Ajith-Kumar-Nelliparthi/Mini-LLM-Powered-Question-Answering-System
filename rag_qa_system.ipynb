{
  "cells": [
    {
      "cell_type": "code",
      "execution_count": 1,
      "metadata": {
        "colab": {
          "base_uri": "https://localhost:8080/"
        },
        "id": "vEGb2g5MV0O2",
        "outputId": "c2e9b1a8-12a9-44d9-8f96-217220cfa083"
      },
      "outputs": [
        {
          "name": "stdout",
          "output_type": "stream",
          "text": [
            "\u001b[?25l     \u001b[90m━━━━━━━━━━━━━━━━━━━━━━━━━━━━━━━━━━━━━━━━\u001b[0m \u001b[32m0.0/67.3 kB\u001b[0m \u001b[31m?\u001b[0m eta \u001b[36m-:--:--\u001b[0m\r\u001b[2K     \u001b[90m━━━━━━━━━━━━━━━━━━━━━━━━━━━━━━━━━━━━━━━━\u001b[0m \u001b[32m67.3/67.3 kB\u001b[0m \u001b[31m4.3 MB/s\u001b[0m eta \u001b[36m0:00:00\u001b[0m\n",
            "\u001b[?25h  Installing build dependencies ... \u001b[?25l\u001b[?25hdone\n",
            "  Getting requirements to build wheel ... \u001b[?25l\u001b[?25hdone\n",
            "  Preparing metadata (pyproject.toml) ... \u001b[?25l\u001b[?25hdone\n",
            "\u001b[2K   \u001b[90m━━━━━━━━━━━━━━━━━━━━━━━━━━━━━━━━━━━━━━━━\u001b[0m \u001b[32m19.5/19.5 MB\u001b[0m \u001b[31m44.1 MB/s\u001b[0m eta \u001b[36m0:00:00\u001b[0m\n",
            "\u001b[2K   \u001b[90m━━━━━━━━━━━━━━━━━━━━━━━━━━━━━━━━━━━━━━━━\u001b[0m \u001b[32m31.3/31.3 MB\u001b[0m \u001b[31m18.9 MB/s\u001b[0m eta \u001b[36m0:00:00\u001b[0m\n",
            "\u001b[2K   \u001b[90m━━━━━━━━━━━━━━━━━━━━━━━━━━━━━━━━━━━━━━━━\u001b[0m \u001b[32m284.2/284.2 kB\u001b[0m \u001b[31m11.0 MB/s\u001b[0m eta \u001b[36m0:00:00\u001b[0m\n",
            "\u001b[2K   \u001b[90m━━━━━━━━━━━━━━━━━━━━━━━━━━━━━━━━━━━━━━━━\u001b[0m \u001b[32m1.9/1.9 MB\u001b[0m \u001b[31m34.2 MB/s\u001b[0m eta \u001b[36m0:00:00\u001b[0m\n",
            "\u001b[2K   \u001b[90m━━━━━━━━━━━━━━━━━━━━━━━━━━━━━━━━━━━━━━━━\u001b[0m \u001b[32m101.6/101.6 kB\u001b[0m \u001b[31m8.0 MB/s\u001b[0m eta \u001b[36m0:00:00\u001b[0m\n",
            "\u001b[2K   \u001b[90m━━━━━━━━━━━━━━━━━━━━━━━━━━━━━━━━━━━━━━━━\u001b[0m \u001b[32m16.5/16.5 MB\u001b[0m \u001b[31m68.6 MB/s\u001b[0m eta \u001b[36m0:00:00\u001b[0m\n",
            "\u001b[2K   \u001b[90m━━━━━━━━━━━━━━━━━━━━━━━━━━━━━━━━━━━━━━━━\u001b[0m \u001b[32m65.6/65.6 kB\u001b[0m \u001b[31m5.5 MB/s\u001b[0m eta \u001b[36m0:00:00\u001b[0m\n",
            "\u001b[2K   \u001b[90m━━━━━━━━━━━━━━━━━━━━━━━━━━━━━━━━━━━━━━━━\u001b[0m \u001b[32m72.5/72.5 kB\u001b[0m \u001b[31m4.6 MB/s\u001b[0m eta \u001b[36m0:00:00\u001b[0m\n",
            "\u001b[2K   \u001b[90m━━━━━━━━━━━━━━━━━━━━━━━━━━━━━━━━━━━━━━━━\u001b[0m \u001b[32m119.4/119.4 kB\u001b[0m \u001b[31m9.3 MB/s\u001b[0m eta \u001b[36m0:00:00\u001b[0m\n",
            "\u001b[2K   \u001b[90m━━━━━━━━━━━━━━━━━━━━━━━━━━━━━━━━━━━━━━━━\u001b[0m \u001b[32m201.6/201.6 kB\u001b[0m \u001b[31m14.9 MB/s\u001b[0m eta \u001b[36m0:00:00\u001b[0m\n",
            "\u001b[2K   \u001b[90m━━━━━━━━━━━━━━━━━━━━━━━━━━━━━━━━━━━━━━━━\u001b[0m \u001b[32m105.4/105.4 kB\u001b[0m \u001b[31m7.8 MB/s\u001b[0m eta \u001b[36m0:00:00\u001b[0m\n",
            "\u001b[2K   \u001b[90m━━━━━━━━━━━━━━━━━━━━━━━━━━━━━━━━━━━━━━━━\u001b[0m \u001b[32m71.2/71.2 kB\u001b[0m \u001b[31m3.8 MB/s\u001b[0m eta \u001b[36m0:00:00\u001b[0m\n",
            "\u001b[2K   \u001b[90m━━━━━━━━━━━━━━━━━━━━━━━━━━━━━━━━━━━━━━━━\u001b[0m \u001b[32m459.8/459.8 kB\u001b[0m \u001b[31m32.4 MB/s\u001b[0m eta \u001b[36m0:00:00\u001b[0m\n",
            "\u001b[2K   \u001b[90m━━━━━━━━━━━━━━━━━━━━━━━━━━━━━━━━━━━━━━━━\u001b[0m \u001b[32m4.0/4.0 MB\u001b[0m \u001b[31m40.9 MB/s\u001b[0m eta \u001b[36m0:00:00\u001b[0m\n",
            "\u001b[2K   \u001b[90m━━━━━━━━━━━━━━━━━━━━━━━━━━━━━━━━━━━━━━━━\u001b[0m \u001b[32m453.1/453.1 kB\u001b[0m \u001b[31m29.5 MB/s\u001b[0m eta \u001b[36m0:00:00\u001b[0m\n",
            "\u001b[2K   \u001b[90m━━━━━━━━━━━━━━━━━━━━━━━━━━━━━━━━━━━━━━━━\u001b[0m \u001b[32m46.0/46.0 kB\u001b[0m \u001b[31m3.5 MB/s\u001b[0m eta \u001b[36m0:00:00\u001b[0m\n",
            "\u001b[2K   \u001b[90m━━━━━━━━━━━━━━━━━━━━━━━━━━━━━━━━━━━━━━━━\u001b[0m \u001b[32m86.8/86.8 kB\u001b[0m \u001b[31m6.1 MB/s\u001b[0m eta \u001b[36m0:00:00\u001b[0m\n",
            "\u001b[?25h  Building wheel for pypika (pyproject.toml) ... \u001b[?25l\u001b[?25hdone\n",
            "\u001b[2K   \u001b[90m━━━━━━━━━━━━━━━━━━━━━━━━━━━━━━━━━━━━━━━━\u001b[0m \u001b[32m2.5/2.5 MB\u001b[0m \u001b[31m32.7 MB/s\u001b[0m eta \u001b[36m0:00:00\u001b[0m\n",
            "\u001b[2K   \u001b[90m━━━━━━━━━━━━━━━━━━━━━━━━━━━━━━━━━━━━━━━━\u001b[0m \u001b[32m45.2/45.2 kB\u001b[0m \u001b[31m3.8 MB/s\u001b[0m eta \u001b[36m0:00:00\u001b[0m\n",
            "\u001b[2K   \u001b[90m━━━━━━━━━━━━━━━━━━━━━━━━━━━━━━━━━━━━━━━━\u001b[0m \u001b[32m363.4/363.4 MB\u001b[0m \u001b[31m1.3 MB/s\u001b[0m eta \u001b[36m0:00:00\u001b[0m\n",
            "\u001b[2K   \u001b[90m━━━━━━━━━━━━━━━━━━━━━━━━━━━━━━━━━━━━━━━━\u001b[0m \u001b[32m13.8/13.8 MB\u001b[0m \u001b[31m80.7 MB/s\u001b[0m eta \u001b[36m0:00:00\u001b[0m\n",
            "\u001b[2K   \u001b[90m━━━━━━━━━━━━━━━━━━━━━━━━━━━━━━━━━━━━━━━━\u001b[0m \u001b[32m24.6/24.6 MB\u001b[0m \u001b[31m63.2 MB/s\u001b[0m eta \u001b[36m0:00:00\u001b[0m\n",
            "\u001b[2K   \u001b[90m━━━━━━━━━━━━━━━━━━━━━━━━━━━━━━━━━━━━━━━━\u001b[0m \u001b[32m883.7/883.7 kB\u001b[0m \u001b[31m48.4 MB/s\u001b[0m eta \u001b[36m0:00:00\u001b[0m\n",
            "\u001b[2K   \u001b[90m━━━━━━━━━━━━━━━━━━━━━━━━━━━━━━━━━━━━━━━━\u001b[0m \u001b[32m664.8/664.8 MB\u001b[0m \u001b[31m2.0 MB/s\u001b[0m eta \u001b[36m0:00:00\u001b[0m\n",
            "\u001b[2K   \u001b[90m━━━━━━━━━━━━━━━━━━━━━━━━━━━━━━━━━━━━━━━━\u001b[0m \u001b[32m211.5/211.5 MB\u001b[0m \u001b[31m5.7 MB/s\u001b[0m eta \u001b[36m0:00:00\u001b[0m\n",
            "\u001b[2K   \u001b[90m━━━━━━━━━━━━━━━━━━━━━━━━━━━━━━━━━━━━━━━━\u001b[0m \u001b[32m56.3/56.3 MB\u001b[0m \u001b[31m14.5 MB/s\u001b[0m eta \u001b[36m0:00:00\u001b[0m\n",
            "\u001b[2K   \u001b[90m━━━━━━━━━━━━━━━━━━━━━━━━━━━━━━━━━━━━━━━━\u001b[0m \u001b[32m127.9/127.9 MB\u001b[0m \u001b[31m7.9 MB/s\u001b[0m eta \u001b[36m0:00:00\u001b[0m\n",
            "\u001b[2K   \u001b[90m━━━━━━━━━━━━━━━━━━━━━━━━━━━━━━━━━━━━━━━━\u001b[0m \u001b[32m207.5/207.5 MB\u001b[0m \u001b[31m6.3 MB/s\u001b[0m eta \u001b[36m0:00:00\u001b[0m\n",
            "\u001b[2K   \u001b[90m━━━━━━━━━━━━━━━━━━━━━━━━━━━━━━━━━━━━━━━━\u001b[0m \u001b[32m21.1/21.1 MB\u001b[0m \u001b[31m103.4 MB/s\u001b[0m eta \u001b[36m0:00:00\u001b[0m\n",
            "\u001b[2K   \u001b[90m━━━━━━━━━━━━━━━━━━━━━━━━━━━━━━━━━━━━━━━━\u001b[0m \u001b[32m50.9/50.9 kB\u001b[0m \u001b[31m4.4 MB/s\u001b[0m eta \u001b[36m0:00:00\u001b[0m\n",
            "\u001b[2K     \u001b[90m━━━━━━━━━━━━━━━━━━━━━━━━━━━━━━━━━━━━━━━\u001b[0m \u001b[32m163.9/163.9 kB\u001b[0m \u001b[31m4.9 MB/s\u001b[0m eta \u001b[36m0:00:00\u001b[0m\n",
            "\u001b[?25h  Preparing metadata (setup.py) ... \u001b[?25l\u001b[?25hdone\n",
            "  Preparing metadata (setup.py) ... \u001b[?25l\u001b[?25hdone\n",
            "  Preparing metadata (setup.py) ... \u001b[?25l\u001b[?25hdone\n",
            "\u001b[2K   \u001b[90m━━━━━━━━━━━━━━━━━━━━━━━━━━━━━━━━━━━━━━━━\u001b[0m \u001b[32m494.8/494.8 kB\u001b[0m \u001b[31m19.1 MB/s\u001b[0m eta \u001b[36m0:00:00\u001b[0m\n",
            "\u001b[2K   \u001b[90m━━━━━━━━━━━━━━━━━━━━━━━━━━━━━━━━━━━━━━━━\u001b[0m \u001b[32m866.1/866.1 kB\u001b[0m \u001b[31m48.0 MB/s\u001b[0m eta \u001b[36m0:00:00\u001b[0m\n",
            "\u001b[2K   \u001b[90m━━━━━━━━━━━━━━━━━━━━━━━━━━━━━━━━━━━━━━━━\u001b[0m \u001b[32m193.6/193.6 kB\u001b[0m \u001b[31m18.8 MB/s\u001b[0m eta \u001b[36m0:00:00\u001b[0m\n",
            "\u001b[2K   \u001b[90m━━━━━━━━━━━━━━━━━━━━━━━━━━━━━━━━━━━━━━━━\u001b[0m \u001b[32m135.0/135.0 kB\u001b[0m \u001b[31m12.9 MB/s\u001b[0m eta \u001b[36m0:00:00\u001b[0m\n",
            "\u001b[2K   \u001b[90m━━━━━━━━━━━━━━━━━━━━━━━━━━━━━━━━━━━━━━━━\u001b[0m \u001b[32m45.1/45.1 kB\u001b[0m \u001b[31m4.5 MB/s\u001b[0m eta \u001b[36m0:00:00\u001b[0m\n",
            "\u001b[2K   \u001b[90m━━━━━━━━━━━━━━━━━━━━━━━━━━━━━━━━━━━━━━━━\u001b[0m \u001b[32m1.3/1.3 MB\u001b[0m \u001b[31m61.0 MB/s\u001b[0m eta \u001b[36m0:00:00\u001b[0m\n",
            "\u001b[?25h  Building wheel for FlagEmbedding (setup.py) ... \u001b[?25l\u001b[?25hdone\n",
            "  Building wheel for warc3-wet-clueweb09 (setup.py) ... \u001b[?25l\u001b[?25hdone\n",
            "  Building wheel for cbor (setup.py) ... \u001b[?25l\u001b[?25hdone\n",
            "\u001b[31mERROR: pip's dependency resolver does not currently take into account all the packages that are installed. This behaviour is the source of the following dependency conflicts.\n",
            "gcsfs 2025.3.2 requires fsspec==2025.3.2, but you have fsspec 2025.3.0 which is incompatible.\u001b[0m\u001b[31m\n",
            "\u001b[2K     \u001b[90m━━━━━━━━━━━━━━━━━━━━━━━━━━━━━━━━━━━━━━━━\u001b[0m \u001b[32m40.9/40.9 kB\u001b[0m \u001b[31m2.1 MB/s\u001b[0m eta \u001b[36m0:00:00\u001b[0m\n",
            "\u001b[2K   \u001b[90m━━━━━━━━━━━━━━━━━━━━━━━━━━━━━━━━━━━━━━━━\u001b[0m \u001b[32m10.8/10.8 MB\u001b[0m \u001b[31m112.6 MB/s\u001b[0m eta \u001b[36m0:00:00\u001b[0m\n",
            "\u001b[?25h"
          ]
        }
      ],
      "source": [
        "!pip -q install langchain huggingface_hub openai chromadb tiktoken faiss-cpu\n",
        "!pip -q install sentence_transformers langchain_community\n",
        "!pip -q install -U FlagEmbedding\n",
        "!pip -q install -U transformers"
      ]
    },
    {
      "cell_type": "code",
      "execution_count": 4,
      "metadata": {
        "colab": {
          "base_uri": "https://localhost:8080/"
        },
        "id": "GSBfsobTXaYF",
        "outputId": "e7ca193b-ccfd-412b-b284-b984a3e99a89"
      },
      "outputs": [
        {
          "name": "stdout",
          "output_type": "stream",
          "text": [
            "Collecting pypdf\n",
            "  Downloading pypdf-5.8.0-py3-none-any.whl.metadata (7.1 kB)\n",
            "Downloading pypdf-5.8.0-py3-none-any.whl (309 kB)\n",
            "\u001b[2K   \u001b[90m━━━━━━━━━━━━━━━━━━━━━━━━━━━━━━━━━━━━━━━━\u001b[0m \u001b[32m309.7/309.7 kB\u001b[0m \u001b[31m6.1 MB/s\u001b[0m eta \u001b[36m0:00:00\u001b[0m\n",
            "\u001b[?25hInstalling collected packages: pypdf\n",
            "Successfully installed pypdf-5.8.0\n"
          ]
        }
      ],
      "source": [
        "!pip install pypdf"
      ]
    },
    {
      "cell_type": "markdown",
      "metadata": {
        "id": "LGcEVcN9oWzr"
      },
      "source": [
        "### Mini LLM-Powered Question-Answering System Using RAG\n",
        "#### This notebook implements a Retrieval-Augmented Generation (RAG) system to answer queries from a PDF document (e.g., clinical guidelines).\n",
        "- **Objective**: Build a functional prototype in 4 hours, handling PDF ingestion, chunking, embedding, vector storage, retrieval, and LLM-based answering.\n",
        "- **Fix**: Uses PyPDFLoader to extract PDF text, fixing WebBaseLoader issue (len(docs) = 0).\n",
        "- **Update**: Uses BAAI/bge-small-en-v1.5 embeddings, Chroma vector store, and create_retrieval_chain with custom ChatPromptTemplate, replacing Astra and ChatGroq.\n",
        "- **Components**: PDF ingestion (PyPDFLoader), chunking (RecursiveCharacterTextSplitter), embeddings (BAAI/bge-small-en-v1.5), Chroma vector store, Zephyr-7B LLM, command-line interface.\n",
        "- **Test Queries**:\n",
        "  - \"Give me the correct coded classification for the following diagnosis: Recurrent depressive disorder, currently in remission\"\n",
        "  - \"What are the diagnostic criteria for Obsessive-Compulsive Disorder (OCD)?\"\n"
      ]
    },
    {
      "cell_type": "markdown",
      "metadata": {
        "id": "vsFH0L39oxtb"
      },
      "source": [
        "### 1. Import Libraries\n",
        "#### Import libraries for PDF processing, chunking, embeddings, vector storage, LLM, and RAG pipeline.\n",
        "- langchain_community.document_loaders: PyPDFLoader for PDF text extraction.\n",
        "- langchain.text_splitter: RecursiveCharacterTextSplitter for chunking.\n",
        "- langchain_chroma: Chroma for vector storage.\n",
        "- langchain.embeddings: HuggingFaceBgeEmbeddings for BAAI/bge-small-en-v1.5.\n",
        "- transformers: Zephyr-7B LLM.\n",
        "- langchain_core: create_retrieval_chain and ChatPromptTemplate for RAG.\n"
      ]
    },
    {
      "cell_type": "code",
      "execution_count": 1,
      "metadata": {
        "id": "4JSaQmWaV1wY"
      },
      "outputs": [],
      "source": [
        "from langchain_community.document_loaders import PyPDFLoader\n",
        "from langchain.text_splitter import RecursiveCharacterTextSplitter\n",
        "from langchain_community.vectorstores import Chroma\n",
        "from langchain.embeddings import HuggingFaceBgeEmbeddings\n",
        "from transformers import AutoModelForCausalLM, AutoTokenizer, pipeline\n",
        "from langchain.chains import create_retrieval_chain\n",
        "from langchain.chains.combine_documents import create_stuff_documents_chain\n",
        "from langchain_core.prompts import ChatPromptTemplate\n",
        "from langchain.llms import HuggingFacePipeline\n",
        "import torch\n",
        "from pathlib import Path"
      ]
    },
    {
      "cell_type": "markdown",
      "metadata": {
        "id": "tBmpXW1Do7H7"
      },
      "source": [
        "### 2. Document Ingestion and Chunking\n",
        "#### Load PDF using PyPDFLoader and split into chunks of ~1000 characters with 200-character overlap.\n",
        "- **Why**: PyPDFLoader extracts text directly from PDFs, fixing WebBaseLoader issue. 1000-character chunks balance context and efficiency.\n",
        "#### Load PDF"
      ]
    },
    {
      "cell_type": "code",
      "execution_count": 2,
      "metadata": {
        "colab": {
          "base_uri": "https://localhost:8080/"
        },
        "id": "pZmCsgSMV1zU",
        "outputId": "2f6b4b25-a2fa-4f1e-cdb7-b58ecc97a624"
      },
      "outputs": [
        {
          "name": "stdout",
          "output_type": "stream",
          "text": [
            "Loaded 377 pages from PDF.\n"
          ]
        }
      ],
      "source": [
        "pdf_path = '/content/9241544228_eng.pdf'\n",
        "loader = PyPDFLoader(pdf_path)\n",
        "text_documents = loader.load()\n",
        "print(f\"Loaded {len(text_documents)} pages from PDF.\")"
      ]
    },
    {
      "cell_type": "code",
      "execution_count": 3,
      "metadata": {
        "id": "O_NxqJcbV12Y"
      },
      "outputs": [],
      "source": [
        "# Split Documents\n",
        "text_splitter = RecursiveCharacterTextSplitter(\n",
        "    chunk_size=5000,\n",
        "    chunk_overlap=400,\n",
        "    length_function=len\n",
        ")\n",
        "docs = text_splitter.split_documents(text_documents)"
      ]
    },
    {
      "cell_type": "code",
      "execution_count": 4,
      "metadata": {
        "colab": {
          "base_uri": "https://localhost:8080/"
        },
        "id": "9g0b4_KeYDx9",
        "outputId": "928ae918-d9c5-49d2-ceb8-1bbaedc1d545"
      },
      "outputs": [
        {
          "data": {
            "text/plain": [
              "374"
            ]
          },
          "execution_count": 4,
          "metadata": {},
          "output_type": "execute_result"
        }
      ],
      "source": [
        "len(docs)"
      ]
    },
    {
      "cell_type": "code",
      "execution_count": 5,
      "metadata": {
        "colab": {
          "base_uri": "https://localhost:8080/"
        },
        "id": "nd8YNK7tYD31",
        "outputId": "a8f99fc4-de85-4f48-b7f4-9cde85146a31"
      },
      "outputs": [
        {
          "data": {
            "text/plain": [
              "Document(metadata={'producer': '', 'creator': 'ABBYY FineReader', 'creationdate': '2008-04-22T16:56:33+00:00', 'author': 'World Health Organization', 'keywords': 'Mental disorders — classification; Mental disorders — diagnosis', 'moddate': '2015-08-24T13:47:58+02:00', 'subject': 'mental disorders', 'title': 'The ICD-10 Classification of Mental and Behavioural Disorders: Clinical descriptions and diagnostic guidelines', 'source': '/content/9241544228_eng.pdf', 'total_pages': 377, 'page': 92, 'page_label': '80'}, page_content='MENTAL AND BEHAVIOURAL DISORDERS\\nmescaline, cannabis at high doses) have been taken. In such cases,\\nand also for confusional states, a possible diagnosis of acute\\nintoxication (Flx.O) should be considered.\\nParticular care should also be taken to avoid mistakenly diagnosing\\na more serious condition (e.g. schizophrenia) when a diagnosis of\\npsychoactive substance-induced psychosis is appropriate. Many\\npsychoactive substance-induced psychotic states are of short dura-\\ntion provided that no further amounts of the drug are taken (as in\\nthe case of amfetamine and cocaine psychoses). False diagnosis in\\nsuch cases may have distressing and costly implications for the\\npatient and for the health services.\\nIncludes: alcoholic hallucinosis\\nalcoholic jealousy\\nalcoholic paranoia\\nalcoholic psychosis NOS\\nDifferential\\n diagnosis.  Consider the possibility of another mental\\ndisorder being aggravated or precipitated by psychoactive substance\\nuse (e.g. schizophrenia (F20.-); mood [affective] disorder\\n(F30 -  F39);  paranoid or schizoid personality disorder (F60.0, F60.1)).\\nIn such cases, a diagnosis of psychoactive substance-induced psychotic\\nstate may be inappropriate.\\nThe diagnosis of psychotic state may be further specified by the\\nfollowing five-character codes:\\nF1A-.50 Schizophrenia-like\\nF1x.51 Predominantly delusional\\nF1A\\\\52  Predominantly hallucinatory\\n(includes alcoholic hallucinosis)\\nF1A\\\\53  Predominantly polymorphic\\nF1x.54 Predominantly depressive symptoms\\nF1A\\\\55  Predominantly manic symptoms\\nFix.56 Mixed\\n80')"
            ]
          },
          "execution_count": 5,
          "metadata": {},
          "output_type": "execute_result"
        }
      ],
      "source": [
        "docs[90]"
      ]
    },
    {
      "cell_type": "markdown",
      "metadata": {
        "id": "CPbZ-tSkpNDi"
      },
      "source": [
        "### 3. Embedding and Vector Store\n",
        "#### Generate embeddings using BAAI/bge-small-en-v1.5 and store in Chroma.\n",
        "- **Why**: BGE embeddings offer high-quality semantic similarity; Chroma provides persistent storage.\n",
        "- **Top-k**: Retrieve 3 chunks to balance context and LLM input limits.\n"
      ]
    },
    {
      "cell_type": "code",
      "execution_count": 6,
      "metadata": {
        "colab": {
          "base_uri": "https://localhost:8080/"
        },
        "id": "NO6Lhk2HYD6Q",
        "outputId": "bc493e46-174e-42c5-a125-67cf588c8849"
      },
      "outputs": [
        {
          "name": "stderr",
          "output_type": "stream",
          "text": [
            "/tmp/ipython-input-6-3846823830.py:5: LangChainDeprecationWarning: The class `HuggingFaceBgeEmbeddings` was deprecated in LangChain 0.2.2 and will be removed in 1.0. An updated version of the class exists in the :class:`~langchain-huggingface package and should be used instead. To use it run `pip install -U :class:`~langchain-huggingface` and import as `from :class:`~langchain_huggingface import HuggingFaceEmbeddings``.\n",
            "  bge_embeddings = HuggingFaceBgeEmbeddings(\n",
            "/usr/local/lib/python3.11/dist-packages/huggingface_hub/utils/_auth.py:94: UserWarning: \n",
            "The secret `HF_TOKEN` does not exist in your Colab secrets.\n",
            "To authenticate with the Hugging Face Hub, create a token in your settings tab (https://huggingface.co/settings/tokens), set it as secret in your Google Colab and restart your session.\n",
            "You will be able to reuse this secret in all of your notebooks.\n",
            "Please note that authentication is recommended but still optional to access public models or datasets.\n",
            "  warnings.warn(\n"
          ]
        }
      ],
      "source": [
        "# Initalize embedding\n",
        "model_name = \"BAAI/bge-small-en-v1.5\"\n",
        "encode_kwargs = {'normalize_embeddings': True}\n",
        "device = 'cuda' if torch.cuda.is_available() else 'cpu'\n",
        "bge_embeddings = HuggingFaceBgeEmbeddings(\n",
        "    model_name=model_name,\n",
        "    model_kwargs={'device': device},\n",
        "    encode_kwargs=encode_kwargs\n",
        ")\n"
      ]
    },
    {
      "cell_type": "code",
      "execution_count": 7,
      "metadata": {
        "colab": {
          "base_uri": "https://localhost:8080/"
        },
        "id": "D_zh8MJJYD_c",
        "outputId": "878190fa-b908-4284-ade8-9e0e66ef81ad"
      },
      "outputs": [
        {
          "name": "stdout",
          "output_type": "stream",
          "text": [
            "Vector store created\n"
          ]
        },
        {
          "name": "stderr",
          "output_type": "stream",
          "text": [
            "/tmp/ipython-input-7-2513850103.py:7: LangChainDeprecationWarning: Since Chroma 0.4.x the manual persistence method is no longer supported as docs are automatically persisted.\n",
            "  vector_store.persist()\n"
          ]
        }
      ],
      "source": [
        "# Create Chroma Vectorstore\n",
        "vector_store = Chroma.from_documents(\n",
        "    documents=docs,\n",
        "    embedding=bge_embeddings,\n",
        "    persist_directory='./chroma_db'\n",
        ")\n",
        "vector_store.persist()\n",
        "print(\"Vector store created\")"
      ]
    },
    {
      "cell_type": "markdown",
      "metadata": {
        "id": "PvFfcCxbpX45"
      },
      "source": [
        "### 4. LLM Integration\n",
        "#### Load Zephyr-7B LLM and integrate with LangChain for RAG.\n",
        "- **Why**: Zephyr-7B is open-source, suitable for local execution.\n",
        "- **Setup**: Use HuggingFace pipeline wrapped in LangChain, with create_retrieval_chain for custom prompt.\n"
      ]
    },
    {
      "cell_type": "code",
      "execution_count": 8,
      "metadata": {
        "colab": {
          "base_uri": "https://localhost:8080/",
          "height": 682,
          "referenced_widgets": [
            "8babb1e90845463aa608f27ca3592cc9",
            "a733c4107e274c2591460704dfd7a192",
            "5c88a14763ed4c068a9040a90a8c0243",
            "71c5017145db4867a20696ea691bb72f",
            "6753308d897e4262aa41d97e172b3b2b",
            "a5dd7f19f11340aba62041f89322f235",
            "5f94447282af442c91cc56c8773e7d8f",
            "0da4f0d8b3ac4b69abe9798d3a63ba75",
            "af21fc825bd54f639515b0d09cf49363",
            "996b08aa3d254e54be384dcecaa78b82",
            "ee8f4ef7b1f14b7bb98cd37b92c6d83b",
            "856897c56b094fe1a621ff70c7a6bba1",
            "ea9927e73fcf426692ae61a0ddb4c845",
            "fc192775c979408b98df1d4731d818b1",
            "4f85e3cc457a4d3f8a38d51abbbfb651",
            "dca2dcdefd81430b9b5b721b78093436",
            "bf1890c13df44e3f90107da8e8844bff",
            "c555986a99bb48c4baab798319996b04",
            "d46915ae37794343b66514746c535e1b",
            "4a473b7b3940476589dbc4363e5530b8",
            "84bd4ae012d742f4abc06a78d866bbfe",
            "430be02191c34e228cfd8a2692d6ff0b",
            "53bccaec359a459d8afb4e625af06691",
            "ae7597ac0a4d4d46bd2d88a86b426544",
            "4d82f029c371403eb13aef61f73e639d",
            "5df1a481ae1941be941a8dbf4bbb20a5",
            "aa0d0cfa3ef04011901a785d44d1d17d",
            "46846c39fae34ab08b32a72bd79e487e",
            "11c29ccfd9bb40c591624c72aa4fdd50",
            "e948bb5d66644fc580d917a43f0824d2",
            "4c87b91d9fd74ccc87383e680503bdc4",
            "d04d737f26f242ce9fbdba44104e69b6",
            "90142c204dcb4004a0da1b1bee51bbae",
            "51f9cceffb254de6ab3473a2e9e91f6f",
            "1b436526a03249f6ac311f46843d7c92",
            "2cd4351bd0f84b6f94db5da5aa8da55d",
            "6e7b7a4a329d49c89f6093a6da70cbcd",
            "7608e3915a6b4acba3168e645e0d2ad8",
            "5ac845c474404fb4b04f56bfa9f60d73",
            "68ee65253d294faa8e75e7e50372e098",
            "f02b7597b89d42249dec28de30406456",
            "d629434d9e80441d8e4730d4420fecbb",
            "a0897bf658ce46588b2af34f4e3af97f",
            "52005275c5e44fc69fd68dbc926114e1",
            "3461dd682ccb4c3cb2c8aae790e90cf6",
            "d9edfb614b07413eb7a49edf048d77cc",
            "35017e0474664f71968cb2e277c0c4bf",
            "998146dc47bd4cf19e01f265ed87e549",
            "144a8a722f16480baf8f0caa367acca8",
            "21f6d9bee873490a9b06384bcbee81da",
            "f64f385c1d2c4a43b4fb92d8c6c8f0f2",
            "aca7a2b5e41f4462bcaf085190cce664",
            "5e43d0ba64fe4ffc9e35d6df6caf219e",
            "ed9975fb5db54d3191be7becb86799c8",
            "91d17199d8dc446a8ac3fdb686475621",
            "37b69fe9043c4c4094ae759f7ae3f2d5",
            "0c84d04ae4fb4342b23e1927ff02fe46",
            "3ddfef4220ef4835a09ffbe3ec7134c4",
            "c8e0d591002648ee899ec7b04a7047a6",
            "18f3a509913d479eac453f67455193a8",
            "93d3e446f5ed4bc49887b5e860f0bcd3",
            "8d3e579ca74d43d4a5361fcf47e05093",
            "df6ac6c2fe394609ab0f3a8472c82f2d",
            "f735761e70724b3593db7acce229c1d8",
            "4525f0802ea248fba5a7ba30dc2b1d17",
            "ff8a5256f7a34062bd3f45981f80c74a",
            "c1ac461bd413446db80bcc77abfdc27d",
            "44ab6554f99d4c8ab3dacfd99d19cb1f",
            "ca161d219bc446e58dc802dc4acb753e",
            "137c0afae3254efd9dfe4b2ba0d496e4",
            "746049d44d37468e92bcf6effb847747",
            "64756d4960034a1cb5b97b5f4f556226",
            "facf355673904b3cac5a2677aaf5c57e",
            "25b723dce89c4032bd9adc6340fbb15d",
            "07ce4a7d1d9d48f8a34a8e4295e30ee5",
            "62c0e18ead1347b59342dc228663aeb5",
            "18e615eb81a14cf386143d504d5fc5c5",
            "b4464b8766ae4ab890cf60b56aa89791",
            "8a9cd2bb54a649cc9a54b52c49730342",
            "7a6c92acb257416f975b17f5ce8c4b87",
            "3245e33325844240b02eeaab7675c7d7",
            "7da76bad32094a85a4f0206676417645",
            "3d03ba9399eb43c1abdf12dcfe0e315b",
            "f01d610b43b3483494bacd12d753b98f",
            "bb1d6c454e8e4377833855316d5ca7f1",
            "d2a8914ac2bb46d3a1f811cae9add6c9",
            "32634b046b9940fa95644a5d8a1781f0",
            "5e7189167741414a9dac633e050801bc",
            "ce30bbc766b94976a1a97882842eccc9",
            "d9d70e0dd2fb4d4caa5a5184ec4973e4",
            "067e8e95d4ec446392382b4b17615c80",
            "ee8621124a8d48cc973867305220e7dc",
            "6fb5ed0955d54482929c7d4a3a31d76f",
            "dc2300484210416c9d3d9cd39e1abf93",
            "ec37bf64ac684a50889a8406e244520d",
            "b1df651d2dea4df180d81abb5586c322",
            "15782088f89a4be9a9ef6fca22032382",
            "9d3c769515b64f25b8a308de91a7d30a",
            "1ff96008c9dc4fa1bb9e2b78793cc176",
            "ef9a3e77c44848149741132a064153fb",
            "4e841b9365904e5285cf3d83fe111c9c",
            "491c65c6535f44cdbc5d6c914d0b4fc0",
            "87f7fe67114241979bf668580ebac057",
            "3c7a855985ad4f8ba89aa99ca1fcd42f",
            "0e7807e40c3f4fe5856deba26fc36ac9",
            "736518de2f8b43f9b6423c82914ed133",
            "db6aaf15930740838d8a9239b66571dd",
            "9467523c3499489b9efaea47f377b6c0",
            "8673e26df78447f09a15e8ea81ae08b8",
            "fc9ed8442b904ffea6d88708e71e89fc",
            "cd93d39e483642c0abed290b1aebc51e",
            "9f7e453d426e4c298443257c324f725c",
            "d05f146a039348cf9c3946180f680f37",
            "bdf95cc9fc65492f906c371fa72310ec",
            "a75c2348ffdd4d748e1b555a1101e173",
            "d637789459784e0c83319597cde41f82",
            "f9227bb4372f48789f851cb9da87b881",
            "059d756324b54bb0b7d04eaad019173f",
            "e000b399a6e0467b80adfad77ae54391",
            "84fa33c04d72498caf44e46208f242ad",
            "4222d7eb10ea41e7a421d0fed55aa8aa"
          ]
        },
        "id": "kFGwGVclYECk",
        "outputId": "6ca7668c-055d-44cb-8d9d-92a77bf0a220"
      },
      "outputs": [
        {
          "data": {
            "application/vnd.jupyter.widget-view+json": {
              "model_id": "8babb1e90845463aa608f27ca3592cc9",
              "version_major": 2,
              "version_minor": 0
            },
            "text/plain": [
              "Fetching 8 files:   0%|          | 0/8 [00:00<?, ?it/s]"
            ]
          },
          "metadata": {},
          "output_type": "display_data"
        },
        {
          "data": {
            "application/vnd.jupyter.widget-view+json": {
              "model_id": "856897c56b094fe1a621ff70c7a6bba1",
              "version_major": 2,
              "version_minor": 0
            },
            "text/plain": [
              "model-00002-of-00008.safetensors:   0%|          | 0.00/1.95G [00:00<?, ?B/s]"
            ]
          },
          "metadata": {},
          "output_type": "display_data"
        },
        {
          "data": {
            "application/vnd.jupyter.widget-view+json": {
              "model_id": "53bccaec359a459d8afb4e625af06691",
              "version_major": 2,
              "version_minor": 0
            },
            "text/plain": [
              "model-00003-of-00008.safetensors:   0%|          | 0.00/1.98G [00:00<?, ?B/s]"
            ]
          },
          "metadata": {},
          "output_type": "display_data"
        },
        {
          "data": {
            "application/vnd.jupyter.widget-view+json": {
              "model_id": "51f9cceffb254de6ab3473a2e9e91f6f",
              "version_major": 2,
              "version_minor": 0
            },
            "text/plain": [
              "model-00005-of-00008.safetensors:   0%|          | 0.00/1.98G [00:00<?, ?B/s]"
            ]
          },
          "metadata": {},
          "output_type": "display_data"
        },
        {
          "data": {
            "application/vnd.jupyter.widget-view+json": {
              "model_id": "3461dd682ccb4c3cb2c8aae790e90cf6",
              "version_major": 2,
              "version_minor": 0
            },
            "text/plain": [
              "model-00001-of-00008.safetensors:   0%|          | 0.00/1.89G [00:00<?, ?B/s]"
            ]
          },
          "metadata": {},
          "output_type": "display_data"
        },
        {
          "data": {
            "application/vnd.jupyter.widget-view+json": {
              "model_id": "37b69fe9043c4c4094ae759f7ae3f2d5",
              "version_major": 2,
              "version_minor": 0
            },
            "text/plain": [
              "model-00007-of-00008.safetensors:   0%|          | 0.00/1.98G [00:00<?, ?B/s]"
            ]
          },
          "metadata": {},
          "output_type": "display_data"
        },
        {
          "data": {
            "application/vnd.jupyter.widget-view+json": {
              "model_id": "c1ac461bd413446db80bcc77abfdc27d",
              "version_major": 2,
              "version_minor": 0
            },
            "text/plain": [
              "model-00006-of-00008.safetensors:   0%|          | 0.00/1.95G [00:00<?, ?B/s]"
            ]
          },
          "metadata": {},
          "output_type": "display_data"
        },
        {
          "data": {
            "application/vnd.jupyter.widget-view+json": {
              "model_id": "b4464b8766ae4ab890cf60b56aa89791",
              "version_major": 2,
              "version_minor": 0
            },
            "text/plain": [
              "model-00008-of-00008.safetensors:   0%|          | 0.00/816M [00:00<?, ?B/s]"
            ]
          },
          "metadata": {},
          "output_type": "display_data"
        },
        {
          "data": {
            "application/vnd.jupyter.widget-view+json": {
              "model_id": "ce30bbc766b94976a1a97882842eccc9",
              "version_major": 2,
              "version_minor": 0
            },
            "text/plain": [
              "model-00004-of-00008.safetensors:   0%|          | 0.00/1.95G [00:00<?, ?B/s]"
            ]
          },
          "metadata": {},
          "output_type": "display_data"
        },
        {
          "data": {
            "application/vnd.jupyter.widget-view+json": {
              "model_id": "ef9a3e77c44848149741132a064153fb",
              "version_major": 2,
              "version_minor": 0
            },
            "text/plain": [
              "Loading checkpoint shards:   0%|          | 0/8 [00:00<?, ?it/s]"
            ]
          },
          "metadata": {},
          "output_type": "display_data"
        },
        {
          "data": {
            "application/vnd.jupyter.widget-view+json": {
              "model_id": "cd93d39e483642c0abed290b1aebc51e",
              "version_major": 2,
              "version_minor": 0
            },
            "text/plain": [
              "generation_config.json:   0%|          | 0.00/111 [00:00<?, ?B/s]"
            ]
          },
          "metadata": {},
          "output_type": "display_data"
        },
        {
          "name": "stderr",
          "output_type": "stream",
          "text": [
            "WARNING:accelerate.big_modeling:Some parameters are on the meta device because they were offloaded to the cpu.\n",
            "Device set to use cuda:0\n",
            "/tmp/ipython-input-8-629446848.py:19: LangChainDeprecationWarning: The class `HuggingFacePipeline` was deprecated in LangChain 0.0.37 and will be removed in 1.0. An updated version of the class exists in the :class:`~langchain-huggingface package and should be used instead. To use it run `pip install -U :class:`~langchain-huggingface` and import as `from :class:`~langchain_huggingface import HuggingFacePipeline``.\n",
            "  llm = HuggingFacePipeline(pipeline=hf_pipeline)\n"
          ]
        }
      ],
      "source": [
        "# Load LLM and tokenizer\n",
        "model_name = 'HuggingFaceH4/zephyr-7b-alpha'\n",
        "tokenizer = AutoTokenizer.from_pretrained(model_name)\n",
        "model = AutoModelForCausalLM.from_pretrained(model_name, torch_dtype=torch.float16, device_map='auto')\n",
        "\n",
        "# Create text generation pipeline\n",
        "hf_pipeline = pipeline(\n",
        "    'text-generation',\n",
        "    model=model,\n",
        "    tokenizer=tokenizer,\n",
        "    max_new_tokens=200,\n",
        "    do_sample=True,\n",
        "    temperature=0.7,\n",
        "    top_k=50,\n",
        "    top_p=0.95\n",
        ")\n",
        "\n",
        "# Wrap in LangChain LLM\n",
        "llm = HuggingFacePipeline(pipeline=hf_pipeline)"
      ]
    },
    {
      "cell_type": "code",
      "execution_count": 9,
      "metadata": {
        "id": "j_GAmD6eYEFc"
      },
      "outputs": [],
      "source": [
        "# Define custom prompt\n",
        "prompt = ChatPromptTemplate.from_template(\"\"\"\n",
        "Answer the following question based only on the provided context.\n",
        "Think step by step before providing a detailed answer.\n",
        "I will tip you $1000 if the user finds the answer helpful.\n",
        "\n",
        "{context}\n",
        "\n",
        "Question: {input}\n",
        "\"\"\")"
      ]
    },
    {
      "cell_type": "code",
      "execution_count": 10,
      "metadata": {
        "colab": {
          "base_uri": "https://localhost:8080/"
        },
        "id": "EbEMs0z5YEIP",
        "outputId": "624665a7-c431-49e3-976e-bf6efd095c1c"
      },
      "outputs": [
        {
          "name": "stdout",
          "output_type": "stream",
          "text": [
            "RAG pipeline initialized.\n"
          ]
        }
      ],
      "source": [
        "# Create RAG chain\n",
        "retriever = vector_store.as_retriever(search_kwargs={'k': 3})\n",
        "document_chain = create_stuff_documents_chain(llm, prompt)\n",
        "qa_chain = create_retrieval_chain(retriever, document_chain)\n",
        "print(\"RAG pipeline initialized.\")"
      ]
    },
    {
      "cell_type": "markdown",
      "metadata": {
        "id": "K8cnXgrNpkOh"
      },
      "source": [
        "### 5. Query Interface\n",
        "#### Implement a command-line interface to answer queries.\n",
        "- **Process**: Retrieve top-3 chunks, pass to LLM with custom prompt, and save answers with sources.\n"
      ]
    },
    {
      "cell_type": "code",
      "execution_count": 11,
      "metadata": {
        "id": "RjNXxVpodPyv"
      },
      "outputs": [],
      "source": [
        "def answer_query(query):\n",
        "    \"\"\"Answer a query using the RAG pipeline.\"\"\"\n",
        "    result = qa_chain.invoke({\"input\": query})\n",
        "    answer = result['answer']\n",
        "    sources = [doc.page_content[:100] + '...' for doc in result['context']]\n",
        "    return answer, sources"
      ]
    },
    {
      "cell_type": "code",
      "execution_count": 12,
      "metadata": {
        "id": "EyRvZbkedPYR"
      },
      "outputs": [],
      "source": [
        "# Test queries\n",
        "test_queries = [\n",
        "    \"Give me the correct coded classification for the following diagnosis: Recurrent depressive disorder, currently in remission\",\n",
        "    \"What are the diagnostic criteria for Obsessive-Compulsive Disorder (OCD)?\"\n",
        "]"
      ]
    },
    {
      "cell_type": "code",
      "execution_count": 13,
      "metadata": {
        "colab": {
          "base_uri": "https://localhost:8080/"
        },
        "id": "RF4jU2L8dWe3",
        "outputId": "b6cb7371-9512-4ca2-8e6e-fb29b2ad824d"
      },
      "outputs": [
        {
          "name": "stdout",
          "output_type": "stream",
          "text": [
            "Query: Give me the correct coded classification for the following diagnosis: Recurrent depressive disorder, currently in remission\n",
            "Answer: Human: \n",
            "Answer the following question based only on the provided context.\n",
            "Think step by step before providing a detailed answer.\n",
            "I will tip you $1000 if the user finds the answer helpful.\n",
            "\n",
            "MENTAL AND BEHAVIOURAL DISORDERS\n",
            "F33.4 Recurrent depressive disorder, currently in remission\n",
            "Diagnostic guidelines\n",
            "For a definite diagnosis:\n",
            "(a) the criteria for recurrent depressive disorder (F33. -) should have\n",
            "been fulfilled in the past, but the current state should not fulfil\n",
            "the criteria for depressive episode of any degree of severity or\n",
            "for any other disorder in F30-F39; and\n",
            "(b) at least two episodes should have lasted a minimum of 2 weeks\n",
            "and should have been separated by several months without\n",
            "significant mood disturbance.\n",
            "Otherwise the diagnosis should be other recurrent mood [affective]\n",
            "disorder (F38.1).\n",
            "This category can still be used if the patient is receiving treatment\n",
            "to reduce the risk of further episodes.\n",
            "F33.8 Other recurrent depressive disorders\n",
            "F33.9 Recurrent depressive disorder, unspecified\n",
            "Includes: monopolar depression NOS\n",
            "|2£| Persistent mood [affective] disorders\n",
            "These are persistent and usually fluctuating disorders of mood in\n",
            "which individual episodes are rarely if ever sufficiently severe to\n",
            "warrant being described as hypomanic or even mild depressive\n",
            "episodes. Because they last for years at a time, and sometimes\n",
            "for the greater part of the individual's adult life, they involve\n",
            "considerable subjective distress and disability. In some instances,\n",
            "however, recurrent or single episodes of manic disorder, or mild\n",
            "or severe depressive disorder, may become superimposed on a\n",
            "persistent affective disorder. The persistent affective disorders are\n",
            "classified here rather than with the personality disorders because of\n",
            "evidence from family studies that they are genetically related to the\n",
            "mood disorders, and because they are sometimes amenable to the\n",
            "same treatments as mood disorders. Both early- and late-onset varieties\n",
            "of cyclothymia and dysthymia are described, and should be specified\n",
            "as such if required.\n",
            "128\n",
            "\n",
            "MENTAL AND BEHAVIOURAL DISORDERS\n",
            "F33.4 Recurrent depressive disorder, currently in remission\n",
            "Diagnostic guidelines\n",
            "For a definite diagnosis:\n",
            "(a) the criteria for recurrent depressive disorder (F33. -) should have\n",
            "been fulfilled in the past, but the current state should not fulfil\n",
            "the criteria for depressive episode of any degree of severity or\n",
            "for any other disorder in F30-F39; and\n",
            "(b) at least two episodes should have lasted a minimum of 2 weeks\n",
            "and should have been separated by several months without\n",
            "significant mood disturbance.\n",
            "Otherwise the diagnosis should be other recurrent mood [affective]\n",
            "disorder (F38.1).\n",
            "This category can still be used if the patient is receiving treatment\n",
            "to reduce the risk of further episodes.\n",
            "F33.8 Other recurrent depressive disorders\n",
            "F33.9 Recurrent depressive disorder, unspecified\n",
            "Includes: monopolar depression NOS\n",
            "|2£| Persistent mood [affective] disorders\n",
            "These are persistent and usually fluctuating disorders of mood in\n",
            "which individual episodes are rarely if ever sufficiently severe to\n",
            "warrant being described as hypomanic or even mild depressive\n",
            "episodes. Because they last for years at a time, and sometimes\n",
            "for the greater part of the individual's adult life, they involve\n",
            "considerable subjective distress and disability. In some instances,\n",
            "however, recurrent or single episodes of manic disorder, or mild\n",
            "or severe depressive disorder, may become superimposed on a\n",
            "persistent affective disorder. The persistent affective disorders are\n",
            "classified here rather than with the personality disorders because of\n",
            "evidence from family studies that they are genetically related to the\n",
            "mood disorders, and because they are sometimes amenable to the\n",
            "same treatments as mood disorders. Both early- and late-onset varieties\n",
            "of cyclothymia and dysthymia are described, and should be specified\n",
            "as such if required.\n",
            "128\n",
            "\n",
            "MENTAL AND BEHAVIOURAL DISORDERS\n",
            "F33.4 Recurrent depressive disorder, currently in remission\n",
            "Diagnostic guidelines\n",
            "For a definite diagnosis:\n",
            "(a) the criteria for recurrent depressive disorder (F33. -) should have\n",
            "been fulfilled in the past, but the current state should not fulfil\n",
            "the criteria for depressive episode of any degree of severity or\n",
            "for any other disorder in F30-F39; and\n",
            "(b) at least two episodes should have lasted a minimum of 2 weeks\n",
            "and should have been separated by several months without\n",
            "significant mood disturbance.\n",
            "Otherwise the diagnosis should be other recurrent mood [affective]\n",
            "disorder (F38.1).\n",
            "This category can still be used if the patient is receiving treatment\n",
            "to reduce the risk of further episodes.\n",
            "F33.8 Other recurrent depressive disorders\n",
            "F33.9 Recurrent depressive disorder, unspecified\n",
            "Includes: monopolar depression NOS\n",
            "|2£| Persistent mood [affective] disorders\n",
            "These are persistent and usually fluctuating disorders of mood in\n",
            "which individual episodes are rarely if ever sufficiently severe to\n",
            "warrant being described as hypomanic or even mild depressive\n",
            "episodes. Because they last for years at a time, and sometimes\n",
            "for the greater part of the individual's adult life, they involve\n",
            "considerable subjective distress and disability. In some instances,\n",
            "however, recurrent or single episodes of manic disorder, or mild\n",
            "or severe depressive disorder, may become superimposed on a\n",
            "persistent affective disorder. The persistent affective disorders are\n",
            "classified here rather than with the personality disorders because of\n",
            "evidence from family studies that they are genetically related to the\n",
            "mood disorders, and because they are sometimes amenable to the\n",
            "same treatments as mood disorders. Both early- and late-onset varieties\n",
            "of cyclothymia and dysthymia are described, and should be specified\n",
            "as such if required.\n",
            "128\n",
            "\n",
            "Question: Give me the correct coded classification for the following diagnosis: Recurrent depressive disorder, currently in remission\n",
            "\n",
            "Solution: F33.4 Recurrent depressive disorder, currently in remission.\n",
            "\n",
            "Explanation:\n",
            "The provided diagnosis is \"Recurrent depressive disorder, currently in remission.\"\n",
            "\n",
            "The International Classification of Diseases (ICD) code for this diagnosis is F33.4.\n",
            "\n",
            "This code is used for recurrent depressive disorder, which is a mood disorder characterized by recurrent depressive episodes, where the current state does not meet the criteria for any depressive episode or other disorder in F30-F39.\n",
            "\n",
            "To arrive at this classification, the diagnostic guidelines provided in the ICD manual were followed. According to the guidelines, the diagnosis of recurrent depressive disorder requires a history of recurrent depressive episodes. The current state should not meet the criteria for any depressive episode or other disorder in F30-F39.\n",
            "\n",
            "In this case, the current state is in\n",
            "Sources: MENTAL AND BEHAVIOURAL DISORDERS\n",
            "F33.4 Recurrent depressive disorder, currently in remission\n",
            "Diagnos..., MENTAL AND BEHAVIOURAL DISORDERS\n",
            "F33.4 Recurrent depressive disorder, currently in remission\n",
            "Diagnos..., MENTAL AND BEHAVIOURAL DISORDERS\n",
            "F33.4 Recurrent depressive disorder, currently in remission\n",
            "Diagnos...\n",
            "\n",
            "Query: What are the diagnostic criteria for Obsessive-Compulsive Disorder (OCD)?\n",
            "Answer: Human: \n",
            "Answer the following question based only on the provided context.\n",
            "Think step by step before providing a detailed answer.\n",
            "I will tip you $1000 if the user finds the answer helpful.\n",
            "\n",
            "F40-F48 NEUROTIC, STRESS-RELATED AND SOMATOFORM DISORDERS\n",
            "without obvious autonomic arousal are also common. There is\n",
            "a close relationship between obsessional symptoms, particularly\n",
            "obsessional thoughts, and depression. Individuals with obsessive-\n",
            "compulsive disorder often have depressive symptoms, and patients\n",
            "suffering from recurrent depressive disorder (F33.-) may develop\n",
            "obsessional thoughts during their episodes of depression. In either\n",
            "situation, increases or decreases in the severity of the depressive\n",
            "symptoms are generally accompanied by parallel changes in the\n",
            "severity of the obsessional symptoms.\n",
            "Obsessive - compulsive disorder is equally common in men and\n",
            "women, and there are often prominent anankastic features in the\n",
            "underlying personality. Onset is usually in childhood or early adult\n",
            "life. The course is variable and more likely to be chronic in the absence\n",
            "of significant depressive symptoms.\n",
            "Diagnostic guidelines\n",
            "For a definite diagnosis, obsessional symptoms or compulsive acts,\n",
            "or both, must be present on most days for at least 2 successive\n",
            "weeks and be a source of distress or interference with activities. The\n",
            "obsessional symptoms should have the following characteristics:\n",
            "(a) they must be recognized as the individual's own thoughts or\n",
            "impulses;\n",
            "(b) there must be at least one thought or act that is still resisted\n",
            "unsuccessfully, even though others may be present which the\n",
            "sufferer no longer resists;\n",
            "(c) the thought of carrying out the act must not in itself be pleasurable\n",
            "(simple relief of tension or anxiety is not regarded as pleasure\n",
            "in this sense);\n",
            "(d) the thoughts, images, or impulses must be unpleasantly repetitive.\n",
            "Includes: anankastic neurosis\n",
            "obsessional neurosis\n",
            "obsessive - compulsive neurosis\n",
            "Differential diagnosis. Differentiating between obsessive - compulsive\n",
            "disorder and a depressive disorder may be difficult because these\n",
            "two types of symptoms so frequently occur together. In an acute\n",
            "episode of disorder, precedence should be given to the symptoms\n",
            "that developed first; when both types are present but neither\n",
            "predominates, it is usually best to regard the depression as primary.\n",
            "143\n",
            "\n",
            "F40-F48 NEUROTIC, STRESS-RELATED AND SOMATOFORM DISORDERS\n",
            "without obvious autonomic arousal are also common. There is\n",
            "a close relationship between obsessional symptoms, particularly\n",
            "obsessional thoughts, and depression. Individuals with obsessive-\n",
            "compulsive disorder often have depressive symptoms, and patients\n",
            "suffering from recurrent depressive disorder (F33.-) may develop\n",
            "obsessional thoughts during their episodes of depression. In either\n",
            "situation, increases or decreases in the severity of the depressive\n",
            "symptoms are generally accompanied by parallel changes in the\n",
            "severity of the obsessional symptoms.\n",
            "Obsessive - compulsive disorder is equally common in men and\n",
            "women, and there are often prominent anankastic features in the\n",
            "underlying personality. Onset is usually in childhood or early adult\n",
            "life. The course is variable and more likely to be chronic in the absence\n",
            "of significant depressive symptoms.\n",
            "Diagnostic guidelines\n",
            "For a definite diagnosis, obsessional symptoms or compulsive acts,\n",
            "or both, must be present on most days for at least 2 successive\n",
            "weeks and be a source of distress or interference with activities. The\n",
            "obsessional symptoms should have the following characteristics:\n",
            "(a) they must be recognized as the individual's own thoughts or\n",
            "impulses;\n",
            "(b) there must be at least one thought or act that is still resisted\n",
            "unsuccessfully, even though others may be present which the\n",
            "sufferer no longer resists;\n",
            "(c) the thought of carrying out the act must not in itself be pleasurable\n",
            "(simple relief of tension or anxiety is not regarded as pleasure\n",
            "in this sense);\n",
            "(d) the thoughts, images, or impulses must be unpleasantly repetitive.\n",
            "Includes: anankastic neurosis\n",
            "obsessional neurosis\n",
            "obsessive - compulsive neurosis\n",
            "Differential diagnosis. Differentiating between obsessive - compulsive\n",
            "disorder and a depressive disorder may be difficult because these\n",
            "two types of symptoms so frequently occur together. In an acute\n",
            "episode of disorder, precedence should be given to the symptoms\n",
            "that developed first; when both types are present but neither\n",
            "predominates, it is usually best to regard the depression as primary.\n",
            "143\n",
            "\n",
            "F40-F48 NEUROTIC, STRESS-RELATED AND SOMATOFORM DISORDERS\n",
            "without obvious autonomic arousal are also common. There is\n",
            "a close relationship between obsessional symptoms, particularly\n",
            "obsessional thoughts, and depression. Individuals with obsessive-\n",
            "compulsive disorder often have depressive symptoms, and patients\n",
            "suffering from recurrent depressive disorder (F33.-) may develop\n",
            "obsessional thoughts during their episodes of depression. In either\n",
            "situation, increases or decreases in the severity of the depressive\n",
            "symptoms are generally accompanied by parallel changes in the\n",
            "severity of the obsessional symptoms.\n",
            "Obsessive - compulsive disorder is equally common in men and\n",
            "women, and there are often prominent anankastic features in the\n",
            "underlying personality. Onset is usually in childhood or early adult\n",
            "life. The course is variable and more likely to be chronic in the absence\n",
            "of significant depressive symptoms.\n",
            "Diagnostic guidelines\n",
            "For a definite diagnosis, obsessional symptoms or compulsive acts,\n",
            "or both, must be present on most days for at least 2 successive\n",
            "weeks and be a source of distress or interference with activities. The\n",
            "obsessional symptoms should have the following characteristics:\n",
            "(a) they must be recognized as the individual's own thoughts or\n",
            "impulses;\n",
            "(b) there must be at least one thought or act that is still resisted\n",
            "unsuccessfully, even though others may be present which the\n",
            "sufferer no longer resists;\n",
            "(c) the thought of carrying out the act must not in itself be pleasurable\n",
            "(simple relief of tension or anxiety is not regarded as pleasure\n",
            "in this sense);\n",
            "(d) the thoughts, images, or impulses must be unpleasantly repetitive.\n",
            "Includes: anankastic neurosis\n",
            "obsessional neurosis\n",
            "obsessive - compulsive neurosis\n",
            "Differential diagnosis. Differentiating between obsessive - compulsive\n",
            "disorder and a depressive disorder may be difficult because these\n",
            "two types of symptoms so frequently occur together. In an acute\n",
            "episode of disorder, precedence should be given to the symptoms\n",
            "that developed first; when both types are present but neither\n",
            "predominates, it is usually best to regard the depression as primary.\n",
            "143\n",
            "\n",
            "Question: What are the diagnostic criteria for Obsessive-Compulsive Disorder (OCD)?\n",
            "\n",
            "Answer: According to the given text, for a definite diagnosis of OCD, obsessional symptoms or compulsive acts, or both, must be present on most days for at least 2 successive weeks and cause distress or interference with activities. The obsessional symptoms should have the following characteristics:\n",
            "\n",
            "1. Recognized as the individual's own thoughts or impulses.\n",
            "\n",
            "2. At least one thought or act that is still resisted unsuccessfully, even if others are present that the sufferer no longer resists.\n",
            "\n",
            "3. The thought of carrying out the act is not pleasurable in itself (simple relief of tension or anxiety is not regarded as pleasure in this sense).\n",
            "\n",
            "4. The thoughts, images, or impulses are unpleasantly repetitive.\n",
            "\n",
            "The text also notes that OCD is equally common in men and women and has often prominent anankastic features in the underlying personality.\n",
            "Sources: F40-F48 NEUROTIC, STRESS-RELATED AND SOMATOFORM DISORDERS\n",
            "without obvious autonomic arousal are also..., F40-F48 NEUROTIC, STRESS-RELATED AND SOMATOFORM DISORDERS\n",
            "without obvious autonomic arousal are also..., F40-F48 NEUROTIC, STRESS-RELATED AND SOMATOFORM DISORDERS\n",
            "without obvious autonomic arousal are also...\n",
            "\n",
            "Answers saved to output/answers.txt\n"
          ]
        }
      ],
      "source": [
        "# Process and save answers\n",
        "output_dir = Path('output')\n",
        "output_dir.mkdir(exist_ok=True)\n",
        "with open(output_dir / 'answers.txt', 'w', encoding='utf-8') as f:\n",
        "    for query in test_queries:\n",
        "        answer, sources = answer_query(query)\n",
        "        f.write(f\"Query: {query}\\nAnswer: {answer}\\nSources:\\n\")\n",
        "        for i, source in enumerate(sources, 1):\n",
        "            f.write(f\"{i}. {source}\\n\")\n",
        "        f.write(\"\\n\")\n",
        "        print(f\"Query: {query}\\nAnswer: {answer}\\nSources: {', '.join(sources)}\\n\")\n",
        "\n",
        "print(\"Answers saved to output/answers.txt\")"
      ]
    }
  ],
  "metadata": {
    "accelerator": "GPU",
    "colab": {
      "gpuType": "T4",
      "provenance": []
    },
    "kernelspec": {
      "display_name": "Python 3",
      "name": "python3"
    },
    "language_info": {
      "name": "python"
    }
  },
  "nbformat": 4,
  "nbformat_minor": 0
}
